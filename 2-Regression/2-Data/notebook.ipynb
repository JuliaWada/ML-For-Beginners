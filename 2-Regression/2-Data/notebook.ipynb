{
 "cells": [
  {
   "cell_type": "code",
   "execution_count": 31,
   "metadata": {},
   "outputs": [
    {
     "name": "stdout",
     "output_type": "stream",
     "text": [
      "Int64Index([ 9,  9, 10, 10, 10, 10, 10, 10, 10, 10,\n",
      "            ...\n",
      "             9,  9,  9,  9,  9,  9,  9,  9,  9,  9],\n",
      "           dtype='int64', name='Date', length=415)\n",
      "      Month               Package  Low Price  High Price   Price\n",
      "70        9  1 1/9 bushel cartons      15.00        15.0  15.000\n",
      "71        9  1 1/9 bushel cartons      18.00        18.0  18.000\n",
      "72       10  1 1/9 bushel cartons      18.00        18.0  18.000\n",
      "73       10  1 1/9 bushel cartons      17.00        17.0  17.000\n",
      "74       10  1 1/9 bushel cartons      15.00        15.0  15.000\n",
      "...     ...                   ...        ...         ...     ...\n",
      "1738      9    1/2 bushel cartons      15.00        15.0  15.000\n",
      "1739      9    1/2 bushel cartons      13.75        15.0  14.375\n",
      "1740      9    1/2 bushel cartons      10.75        15.0  12.875\n",
      "1741      9    1/2 bushel cartons      12.00        12.0  12.000\n",
      "1742      9    1/2 bushel cartons      12.00        12.0  12.000\n",
      "\n",
      "[415 rows x 5 columns]\n"
     ]
    },
    {
     "data": {
      "image/png": "[encoded data removed]",
      "text/plain": [
       "<Figure size 432x288 with 1 Axes>"
      ]
     },
     "metadata": {},
     "output_type": "display_data"
    }
   ],
   "source": [
    "# Prepare data and data visualization\n",
    "import pandas as pd\n",
    "import matplotlib.pyplot as plt\n",
    "\n",
    "pumpkins = pd.read_csv('../data/US-pumpkins.csv')\n",
    "pumpkins = pumpkins[pumpkins['Package'].str.contains('bushel', case=True, regex=True)]\n",
    "# helps to view the first 5 rows\n",
    "# put a number in head to find out more\n",
    "pumpkins.head(10)\n",
    "\n",
    "pumpkins.isnull().sum()\n",
    "# pick the columns that you want from the dataset\n",
    "new_cols = ['Package', 'Low Price', 'High Price', 'Date']\n",
    "pumpkins = pumpkins.drop([c for c in pumpkins.columns if c not in new_cols], axis = 1)\n",
    "pumpkins.head()\n",
    "\n",
    "# find the avg price of a pumpkin\n",
    "price = (pumpkins['Low Price'] + pumpkins['High Price']) / 2\n",
    "month = pd.DatetimeIndex(pumpkins['Date']).month\n",
    "print(month) # takes month from mm/dd/yy\n",
    "\n",
    "# make a pandas dataframe\n",
    "new_pumpkins = pd.DataFrame({'Month': month, 'Package': pumpkins['Package'], 'Low Price': pumpkins['Low Price'],'High Price': pumpkins['High Price'], 'Price': price})\n",
    "new_pumpkins.head()\n",
    "\n",
    "# now need to sort out the different measurements for the packages bins vs packages\n",
    "#added line under initial csv import\n",
    "# now want to mornalize the prices b/c weird amounts like 1 1/9; want better pricing per bushel\n",
    "print(new_pumpkins)\n",
    "new_pumpkins.loc[new_pumpkins['Package'].str.contains('1 1/9'), 'Price'] = price/(1 + 1/9)\n",
    "\n",
    "new_pumpkins.loc[new_pumpkins['Package'].str.contains('1/2'), 'Price'] = price/(1/2)\n",
    "new_pumpkins.head(10)\n",
    "\n",
    "price = new_pumpkins.Price\n",
    "month = new_pumpkins.Month\n",
    "plt.scatter(price, month)\n",
    "plt.rcParams['figure.facecolor'] = 'white'\n",
    "plt.show()\n"
   ]
  }
 ],
 "metadata": {
  "kernelspec": {
   "display_name": "Python 3",
   "language": "python",
   "name": "python3"
  },
  "language_info": {
   "codemirror_mode": {
    "name": "ipython",
    "version": 3
   },
   "file_extension": ".py",
   "mimetype": "text/x-python",
   "name": "python",
   "nbconvert_exporter": "python",
   "pygments_lexer": "ipython3",
   "version": "3.9.0"
  },
  "orig_nbformat": 2
 },
 "nbformat": 4,
 "nbformat_minor": 2
}
